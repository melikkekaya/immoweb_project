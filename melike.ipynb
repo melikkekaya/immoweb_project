{
 "cells": [
  {
   "cell_type": "code",
   "execution_count": 3,
   "metadata": {},
   "outputs": [],
   "source": [
    "import requests, json, lxml\n",
    "from bs4 import BeautifulSoup\n",
    "from concurrent.futures import ThreadPoolExecutor\n",
    "from time import perf_counter\n",
    "import pandas as pd"
   ]
  },
  {
   "cell_type": "code",
   "execution_count": 36,
   "metadata": {},
   "outputs": [],
   "source": [
    "url = 'https://www.immoweb.be/en/classified/mansion/for-sale/puurs/2870/10566398'\n",
    "content = requests.get(url).content\n",
    "all_tables = pd.read_html(content,keep_default_na=False)\n",
    "data_frame_houses = pd.concat(all_tables,  ignore_index=True)"
   ]
  },
  {
   "cell_type": "code",
   "execution_count": null,
   "metadata": {},
   "outputs": [],
   "source": [
    "data_frame_houses"
   ]
  },
  {
   "cell_type": "code",
   "execution_count": 38,
   "metadata": {},
   "outputs": [
    {
     "data": {
      "text/plain": [
       "{'Construction year': '1909',\n",
       " 'Building condition': 'To be done up',\n",
       " 'Street frontage width': '10 m',\n",
       " 'Number of frontages': '2',\n",
       " 'Covered parking spaces': '1',\n",
       " 'Living area': '282  m² square meters',\n",
       " 'Living room surface': '52  m² square meters',\n",
       " 'Kitchen type': 'Installed',\n",
       " 'Kitchen surface': '14  m² square meters',\n",
       " 'Bedrooms': '4',\n",
       " 'Bedroom 1 surface': '19  m² square meters',\n",
       " 'Bedroom 2 surface': '17  m² square meters',\n",
       " 'Bedroom 3 surface': '17  m² square meters',\n",
       " 'Bathrooms': '1',\n",
       " 'Toilets': '2',\n",
       " 'Office surface': '28  m² square meters',\n",
       " 'Office': 'Yes',\n",
       " 'Basement': 'Yes',\n",
       " 'Surface of the plot': '497  m²  square meters',\n",
       " 'Width of the lot on the street': '10 m  meters',\n",
       " 'Gas, water & electricity': 'No',\n",
       " 'Garden': 'Yes',\n",
       " 'Garden orientation': 'East',\n",
       " 'Terrace surface': '40  m²  square meters',\n",
       " 'Primary energy consumption': '240  kWh/m²  kilowatt hour per square meters',\n",
       " 'Energy class': 'C',\n",
       " '': '',\n",
       " 'Reference number of the EPC report': '20230308-0002314212-RES-4',\n",
       " 'CO₂ emission': 'Not specified',\n",
       " 'Yearly theoretical total energy consumption': 'Not specified',\n",
       " 'As built plan': 'No',\n",
       " 'Heating type': 'Gas',\n",
       " 'Double glazing': 'Yes',\n",
       " 'Planning permission obtained': 'Yes',\n",
       " 'Subdivision permit': 'No',\n",
       " 'Possible priority purchase right': 'No',\n",
       " 'Proceedings for breach of planning regulations': 'No',\n",
       " 'Flood zone type': 'Non flood zone',\n",
       " 'Latest land use designation': 'Living area (residential, urban or rural)',\n",
       " 'Price': '€ 439,000  439000 €',\n",
       " 'Cadastral income': '€ 733  733 €',\n",
       " 'Tenement building': 'No',\n",
       " 'Address': 'Dorpshart 10 2870  - Puurs',\n",
       " 'Website': 'http://www.trevi-axus.be',\n",
       " 'External reference': '9881 - TK/23042/8'}"
      ]
     },
     "execution_count": 38,
     "metadata": {},
     "output_type": "execute_result"
    }
   ],
   "source": [
    "house_dict = {}\n",
    "# bu sözlüğe önce id eklenebilir \n",
    "for i in data_frame_houses.index:\n",
    "    house_dict[data_frame_houses[0][i]] = data_frame_houses[1][i]\n",
    "house_dict"
   ]
  },
  {
   "cell_type": "code",
   "execution_count": 20,
   "metadata": {},
   "outputs": [],
   "source": [
    "# house_keys = data_frame_houses.iloc[:,0]\n",
    "# house_values = data_frame_houses.iloc[:,1]"
   ]
  },
  {
   "cell_type": "code",
   "execution_count": 39,
   "metadata": {},
   "outputs": [],
   "source": [
    "headers_df = [\n",
    "        \"Id\",\n",
    "        \"Locality\",\n",
    "        \"Type of property\",\n",
    "        \"Subtype of property\",\n",
    "        \"Price\",\n",
    "        \"Type of sale\",\n",
    "        \"Number of rooms\",\n",
    "        \"Living Area\",\n",
    "        \"Fully equipped kitchen\",\n",
    "        \"Furnished\",\n",
    "        \"Open fire\",\n",
    "        \"Terrace\",\n",
    "        \"Terrace area\",\n",
    "        \"Garden\",\n",
    "        \"Garden area\",\n",
    "        \"Surface of the land\",\n",
    "        \"Surface area of the plot of land\",\n",
    "        \"Number of facades\",\n",
    "        \"Swimming pool\",\n",
    "        \"State of the building\",\n",
    "        \"Url\"\n",
    "    ]\n",
    "\n",
    "df = pd.DataFrame(columns=headers_df)"
   ]
  },
  {
   "cell_type": "code",
   "execution_count": 40,
   "metadata": {},
   "outputs": [
    {
     "data": {
      "text/html": [
       "<div>\n",
       "<style scoped>\n",
       "    .dataframe tbody tr th:only-of-type {\n",
       "        vertical-align: middle;\n",
       "    }\n",
       "\n",
       "    .dataframe tbody tr th {\n",
       "        vertical-align: top;\n",
       "    }\n",
       "\n",
       "    .dataframe thead th {\n",
       "        text-align: right;\n",
       "    }\n",
       "</style>\n",
       "<table border=\"1\" class=\"dataframe\">\n",
       "  <thead>\n",
       "    <tr style=\"text-align: right;\">\n",
       "      <th></th>\n",
       "      <th>Locality</th>\n",
       "      <th>Type of property</th>\n",
       "      <th>Subtype of property</th>\n",
       "      <th>Price</th>\n",
       "      <th>Type of sale</th>\n",
       "      <th>Number of rooms</th>\n",
       "      <th>Living Area</th>\n",
       "      <th>Fully equipped kitchen</th>\n",
       "      <th>Furnished</th>\n",
       "      <th>Open fire</th>\n",
       "      <th>...</th>\n",
       "      <th>Terrace area</th>\n",
       "      <th>Garden</th>\n",
       "      <th>Garden area</th>\n",
       "      <th>Surface of the land</th>\n",
       "      <th>Surface area of the plot of land</th>\n",
       "      <th>Number of facades</th>\n",
       "      <th>Swimming pool</th>\n",
       "      <th>State of the building</th>\n",
       "      <th>Id</th>\n",
       "      <th>Url</th>\n",
       "    </tr>\n",
       "  </thead>\n",
       "  <tbody>\n",
       "  </tbody>\n",
       "</table>\n",
       "<p>0 rows × 21 columns</p>\n",
       "</div>"
      ],
      "text/plain": [
       "Empty DataFrame\n",
       "Columns: [Locality, Type of property, Subtype of property, Price, Type of sale, Number of rooms, Living Area, Fully equipped kitchen, Furnished, Open fire, Terrace, Terrace area, Garden, Garden area, Surface of the land, Surface area of the plot of land, Number of facades, Swimming pool, State of the building, Id, Url]\n",
       "Index: []\n",
       "\n",
       "[0 rows x 21 columns]"
      ]
     },
     "execution_count": 40,
     "metadata": {},
     "output_type": "execute_result"
    }
   ],
   "source": [
    "df"
   ]
  },
  {
   "cell_type": "code",
   "execution_count": 1,
   "metadata": {},
   "outputs": [
    {
     "ename": "TypeError",
     "evalue": "'NoneType' object is not callable",
     "output_type": "error",
     "traceback": [
      "\u001b[0;31m---------------------------------------------------------------------------\u001b[0m",
      "\u001b[0;31mTypeError\u001b[0m                                 Traceback (most recent call last)",
      "Cell \u001b[0;32mIn[1], line 46\u001b[0m\n\u001b[1;32m     44\u001b[0m main \u001b[39m=\u001b[39m Immoweb()\n\u001b[1;32m     45\u001b[0m start \u001b[39m=\u001b[39m perf_counter()\n\u001b[0;32m---> 46\u001b[0m \u001b[39mprint\u001b[39m(main\u001b[39m.\u001b[39;49mnew())\n\u001b[1;32m     47\u001b[0m end\u001b[39m=\u001b[39mperf_counter()\n\u001b[1;32m     48\u001b[0m pool_time \u001b[39m=\u001b[39m end\u001b[39m-\u001b[39mstart\n",
      "Cell \u001b[0;32mIn[1], line 40\u001b[0m, in \u001b[0;36mImmoweb.new\u001b[0;34m(self)\u001b[0m\n\u001b[1;32m     38\u001b[0m \u001b[39mdef\u001b[39;00m \u001b[39mnew\u001b[39m(\u001b[39mself\u001b[39m):\n\u001b[1;32m     39\u001b[0m     \u001b[39mwith\u001b[39;00m ThreadPoolExecutor() \u001b[39mas\u001b[39;00m pool:\n\u001b[0;32m---> 40\u001b[0m         \u001b[39mself\u001b[39m\u001b[39m.\u001b[39mall_immo_links \u001b[39m=\u001b[39m \u001b[39mlist\u001b[39;49m(pool\u001b[39m.\u001b[39;49mmap(\u001b[39mself\u001b[39;49m\u001b[39m.\u001b[39;49mget_link_from_search_page(), \u001b[39mself\u001b[39;49m\u001b[39m.\u001b[39;49msearch_links))\n\u001b[1;32m     41\u001b[0m     \u001b[39mreturn\u001b[39;00m \u001b[39mself\u001b[39m\u001b[39m.\u001b[39mall_immo_links\n",
      "File \u001b[0;32m/Library/Frameworks/Python.framework/Versions/3.11/lib/python3.11/concurrent/futures/_base.py:619\u001b[0m, in \u001b[0;36mExecutor.map.<locals>.result_iterator\u001b[0;34m()\u001b[0m\n\u001b[1;32m    616\u001b[0m \u001b[39mwhile\u001b[39;00m fs:\n\u001b[1;32m    617\u001b[0m     \u001b[39m# Careful not to keep a reference to the popped future\u001b[39;00m\n\u001b[1;32m    618\u001b[0m     \u001b[39mif\u001b[39;00m timeout \u001b[39mis\u001b[39;00m \u001b[39mNone\u001b[39;00m:\n\u001b[0;32m--> 619\u001b[0m         \u001b[39myield\u001b[39;00m _result_or_cancel(fs\u001b[39m.\u001b[39;49mpop())\n\u001b[1;32m    620\u001b[0m     \u001b[39melse\u001b[39;00m:\n\u001b[1;32m    621\u001b[0m         \u001b[39myield\u001b[39;00m _result_or_cancel(fs\u001b[39m.\u001b[39mpop(), end_time \u001b[39m-\u001b[39m time\u001b[39m.\u001b[39mmonotonic())\n",
      "File \u001b[0;32m/Library/Frameworks/Python.framework/Versions/3.11/lib/python3.11/concurrent/futures/_base.py:317\u001b[0m, in \u001b[0;36m_result_or_cancel\u001b[0;34m(***failed resolving arguments***)\u001b[0m\n\u001b[1;32m    315\u001b[0m \u001b[39mtry\u001b[39;00m:\n\u001b[1;32m    316\u001b[0m     \u001b[39mtry\u001b[39;00m:\n\u001b[0;32m--> 317\u001b[0m         \u001b[39mreturn\u001b[39;00m fut\u001b[39m.\u001b[39;49mresult(timeout)\n\u001b[1;32m    318\u001b[0m     \u001b[39mfinally\u001b[39;00m:\n\u001b[1;32m    319\u001b[0m         fut\u001b[39m.\u001b[39mcancel()\n",
      "File \u001b[0;32m/Library/Frameworks/Python.framework/Versions/3.11/lib/python3.11/concurrent/futures/_base.py:449\u001b[0m, in \u001b[0;36mFuture.result\u001b[0;34m(self, timeout)\u001b[0m\n\u001b[1;32m    447\u001b[0m     \u001b[39mraise\u001b[39;00m CancelledError()\n\u001b[1;32m    448\u001b[0m \u001b[39melif\u001b[39;00m \u001b[39mself\u001b[39m\u001b[39m.\u001b[39m_state \u001b[39m==\u001b[39m FINISHED:\n\u001b[0;32m--> 449\u001b[0m     \u001b[39mreturn\u001b[39;00m \u001b[39mself\u001b[39;49m\u001b[39m.\u001b[39;49m__get_result()\n\u001b[1;32m    451\u001b[0m \u001b[39mself\u001b[39m\u001b[39m.\u001b[39m_condition\u001b[39m.\u001b[39mwait(timeout)\n\u001b[1;32m    453\u001b[0m \u001b[39mif\u001b[39;00m \u001b[39mself\u001b[39m\u001b[39m.\u001b[39m_state \u001b[39min\u001b[39;00m [CANCELLED, CANCELLED_AND_NOTIFIED]:\n",
      "File \u001b[0;32m/Library/Frameworks/Python.framework/Versions/3.11/lib/python3.11/concurrent/futures/_base.py:401\u001b[0m, in \u001b[0;36mFuture.__get_result\u001b[0;34m(self)\u001b[0m\n\u001b[1;32m    399\u001b[0m \u001b[39mif\u001b[39;00m \u001b[39mself\u001b[39m\u001b[39m.\u001b[39m_exception:\n\u001b[1;32m    400\u001b[0m     \u001b[39mtry\u001b[39;00m:\n\u001b[0;32m--> 401\u001b[0m         \u001b[39mraise\u001b[39;00m \u001b[39mself\u001b[39m\u001b[39m.\u001b[39m_exception\n\u001b[1;32m    402\u001b[0m     \u001b[39mfinally\u001b[39;00m:\n\u001b[1;32m    403\u001b[0m         \u001b[39m# Break a reference cycle with the exception in self._exception\u001b[39;00m\n\u001b[1;32m    404\u001b[0m         \u001b[39mself\u001b[39m \u001b[39m=\u001b[39m \u001b[39mNone\u001b[39;00m\n",
      "File \u001b[0;32m/Library/Frameworks/Python.framework/Versions/3.11/lib/python3.11/concurrent/futures/thread.py:58\u001b[0m, in \u001b[0;36m_WorkItem.run\u001b[0;34m(self)\u001b[0m\n\u001b[1;32m     55\u001b[0m     \u001b[39mreturn\u001b[39;00m\n\u001b[1;32m     57\u001b[0m \u001b[39mtry\u001b[39;00m:\n\u001b[0;32m---> 58\u001b[0m     result \u001b[39m=\u001b[39m \u001b[39mself\u001b[39;49m\u001b[39m.\u001b[39;49mfn(\u001b[39m*\u001b[39;49m\u001b[39mself\u001b[39;49m\u001b[39m.\u001b[39;49margs, \u001b[39m*\u001b[39;49m\u001b[39m*\u001b[39;49m\u001b[39mself\u001b[39;49m\u001b[39m.\u001b[39;49mkwargs)\n\u001b[1;32m     59\u001b[0m \u001b[39mexcept\u001b[39;00m \u001b[39mBaseException\u001b[39;00m \u001b[39mas\u001b[39;00m exc:\n\u001b[1;32m     60\u001b[0m     \u001b[39mself\u001b[39m\u001b[39m.\u001b[39mfuture\u001b[39m.\u001b[39mset_exception(exc)\n",
      "\u001b[0;31mTypeError\u001b[0m: 'NoneType' object is not callable"
     ]
    }
   ],
   "source": [
    "import requests, json, lxml, re, csv\n",
    "from bs4 import BeautifulSoup\n",
    "from concurrent.futures import ThreadPoolExecutor\n",
    "from time import perf_counter\n",
    "import pandas as pd\n",
    "from typing import List, Dict\n",
    "\n",
    "class Immoweb():\n",
    "    root_url = \"https://www.immoweb.be/en/search/\"\n",
    "    all_data_file = \"all_data.csv\"\n",
    "    search_links = []\n",
    "    estate_types = ['house', 'apartment']\n",
    "    all_immo_links = []\n",
    "\n",
    "    def __init__(self):\n",
    "        self.search_links = self.get_search_list()\n",
    "        self.immo_links = self.get_link_from_search_page()\n",
    "        \n",
    "    def get_search_list(self) -> List:\n",
    "        for estate in self.estate_types:\n",
    "            for page in range(1,3): #for testing purpose I changed from 334 to 2\n",
    "                url = f\"{self.root_url}{estate}/for-sale?countries=BE&page={page}&orderBy=relevance\"\n",
    "                self.search_links.append(url)\n",
    "        return self.search_links\n",
    "\n",
    "    def get_link_from_search_page(self):\n",
    "        with ThreadPoolExecutor() as pool:\n",
    "            for link in self.search_links:\n",
    "                req = requests.get(link)\n",
    "                soup = BeautifulSoup(req.content, 'html.parser')\n",
    "                card_results = soup.find_all('article', class_='card--result')\n",
    "                immo_links = []\n",
    "                for article in card_results:\n",
    "                    link = article.find('a', class_='card__title-link')\n",
    "                    if link:\n",
    "                        immo_links.append(link['href'])\n",
    "            # return immo_links\n",
    "\n",
    "    def new(self):\n",
    "        with ThreadPoolExecutor() as pool:\n",
    "            self.all_immo_links = list(pool.map(self.get_link_from_search_page(), self.search_links))\n",
    "        return self.all_immo_links\n",
    "\n",
    "if __name__ == \"__main__\":\n",
    "    main = Immoweb()\n",
    "    start = perf_counter()\n",
    "    print(main.new())\n",
    "    end=perf_counter()\n",
    "    pool_time = end-start\n",
    "    print(\"pool_time: \", pool_time)"
   ]
  },
  {
   "cell_type": "code",
   "execution_count": null,
   "metadata": {},
   "outputs": [],
   "source": []
  }
 ],
 "metadata": {
  "kernelspec": {
   "display_name": "venv",
   "language": "python",
   "name": "python3"
  },
  "language_info": {
   "codemirror_mode": {
    "name": "ipython",
    "version": 3
   },
   "file_extension": ".py",
   "mimetype": "text/x-python",
   "name": "python",
   "nbconvert_exporter": "python",
   "pygments_lexer": "ipython3",
   "version": "3.11.2"
  },
  "orig_nbformat": 4
 },
 "nbformat": 4,
 "nbformat_minor": 2
}
