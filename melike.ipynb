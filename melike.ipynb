{
 "cells": [
  {
   "cell_type": "code",
   "execution_count": 3,
   "metadata": {},
   "outputs": [],
   "source": [
    "import requests, json, lxml\n",
    "from bs4 import BeautifulSoup\n",
    "from concurrent.futures import ThreadPoolExecutor\n",
    "from time import perf_counter\n",
    "import pandas as pd"
   ]
  },
  {
   "cell_type": "code",
   "execution_count": 36,
   "metadata": {},
   "outputs": [],
   "source": [
    "url = 'https://www.immoweb.be/en/classified/mansion/for-sale/puurs/2870/10566398'\n",
    "content = requests.get(url).content\n",
    "all_tables = pd.read_html(content,keep_default_na=False)\n",
    "data_frame_houses = pd.concat(all_tables,  ignore_index=True)"
   ]
  },
  {
   "cell_type": "code",
   "execution_count": null,
   "metadata": {},
   "outputs": [],
   "source": [
    "data_frame_houses"
   ]
  },
  {
   "cell_type": "code",
   "execution_count": 38,
   "metadata": {},
   "outputs": [
    {
     "data": {
      "text/plain": [
       "{'Construction year': '1909',\n",
       " 'Building condition': 'To be done up',\n",
       " 'Street frontage width': '10 m',\n",
       " 'Number of frontages': '2',\n",
       " 'Covered parking spaces': '1',\n",
       " 'Living area': '282  m² square meters',\n",
       " 'Living room surface': '52  m² square meters',\n",
       " 'Kitchen type': 'Installed',\n",
       " 'Kitchen surface': '14  m² square meters',\n",
       " 'Bedrooms': '4',\n",
       " 'Bedroom 1 surface': '19  m² square meters',\n",
       " 'Bedroom 2 surface': '17  m² square meters',\n",
       " 'Bedroom 3 surface': '17  m² square meters',\n",
       " 'Bathrooms': '1',\n",
       " 'Toilets': '2',\n",
       " 'Office surface': '28  m² square meters',\n",
       " 'Office': 'Yes',\n",
       " 'Basement': 'Yes',\n",
       " 'Surface of the plot': '497  m²  square meters',\n",
       " 'Width of the lot on the street': '10 m  meters',\n",
       " 'Gas, water & electricity': 'No',\n",
       " 'Garden': 'Yes',\n",
       " 'Garden orientation': 'East',\n",
       " 'Terrace surface': '40  m²  square meters',\n",
       " 'Primary energy consumption': '240  kWh/m²  kilowatt hour per square meters',\n",
       " 'Energy class': 'C',\n",
       " '': '',\n",
       " 'Reference number of the EPC report': '20230308-0002314212-RES-4',\n",
       " 'CO₂ emission': 'Not specified',\n",
       " 'Yearly theoretical total energy consumption': 'Not specified',\n",
       " 'As built plan': 'No',\n",
       " 'Heating type': 'Gas',\n",
       " 'Double glazing': 'Yes',\n",
       " 'Planning permission obtained': 'Yes',\n",
       " 'Subdivision permit': 'No',\n",
       " 'Possible priority purchase right': 'No',\n",
       " 'Proceedings for breach of planning regulations': 'No',\n",
       " 'Flood zone type': 'Non flood zone',\n",
       " 'Latest land use designation': 'Living area (residential, urban or rural)',\n",
       " 'Price': '€ 439,000  439000 €',\n",
       " 'Cadastral income': '€ 733  733 €',\n",
       " 'Tenement building': 'No',\n",
       " 'Address': 'Dorpshart 10 2870  - Puurs',\n",
       " 'Website': 'http://www.trevi-axus.be',\n",
       " 'External reference': '9881 - TK/23042/8'}"
      ]
     },
     "execution_count": 38,
     "metadata": {},
     "output_type": "execute_result"
    }
   ],
   "source": [
    "house_dict = {}\n",
    "# bu sözlüğe önce id eklenebilir \n",
    "for i in data_frame_houses.index:\n",
    "    house_dict[data_frame_houses[0][i]] = data_frame_houses[1][i]\n",
    "house_dict"
   ]
  },
  {
   "cell_type": "code",
   "execution_count": 20,
   "metadata": {},
   "outputs": [],
   "source": [
    "# house_keys = data_frame_houses.iloc[:,0]\n",
    "# house_values = data_frame_houses.iloc[:,1]"
   ]
  },
  {
   "cell_type": "code",
   "execution_count": 39,
   "metadata": {},
   "outputs": [],
   "source": [
    "headers_df = [\n",
    "        \"Id\",\n",
    "        \"Locality\",\n",
    "        \"Type of property\",\n",
    "        \"Subtype of property\",\n",
    "        \"Price\",\n",
    "        \"Type of sale\",\n",
    "        \"Number of rooms\",\n",
    "        \"Living Area\",\n",
    "        \"Fully equipped kitchen\",\n",
    "        \"Furnished\",\n",
    "        \"Open fire\",\n",
    "        \"Terrace\",\n",
    "        \"Terrace area\",\n",
    "        \"Garden\",\n",
    "        \"Garden area\",\n",
    "        \"Surface of the land\",\n",
    "        \"Surface area of the plot of land\",\n",
    "        \"Number of facades\",\n",
    "        \"Swimming pool\",\n",
    "        \"State of the building\",\n",
    "        \"Url\"\n",
    "    ]\n",
    "\n",
    "df = pd.DataFrame(columns=headers_df)"
   ]
  },
  {
   "cell_type": "code",
   "execution_count": 40,
   "metadata": {},
   "outputs": [
    {
     "data": {
      "text/html": [
       "<div>\n",
       "<style scoped>\n",
       "    .dataframe tbody tr th:only-of-type {\n",
       "        vertical-align: middle;\n",
       "    }\n",
       "\n",
       "    .dataframe tbody tr th {\n",
       "        vertical-align: top;\n",
       "    }\n",
       "\n",
       "    .dataframe thead th {\n",
       "        text-align: right;\n",
       "    }\n",
       "</style>\n",
       "<table border=\"1\" class=\"dataframe\">\n",
       "  <thead>\n",
       "    <tr style=\"text-align: right;\">\n",
       "      <th></th>\n",
       "      <th>Locality</th>\n",
       "      <th>Type of property</th>\n",
       "      <th>Subtype of property</th>\n",
       "      <th>Price</th>\n",
       "      <th>Type of sale</th>\n",
       "      <th>Number of rooms</th>\n",
       "      <th>Living Area</th>\n",
       "      <th>Fully equipped kitchen</th>\n",
       "      <th>Furnished</th>\n",
       "      <th>Open fire</th>\n",
       "      <th>...</th>\n",
       "      <th>Terrace area</th>\n",
       "      <th>Garden</th>\n",
       "      <th>Garden area</th>\n",
       "      <th>Surface of the land</th>\n",
       "      <th>Surface area of the plot of land</th>\n",
       "      <th>Number of facades</th>\n",
       "      <th>Swimming pool</th>\n",
       "      <th>State of the building</th>\n",
       "      <th>Id</th>\n",
       "      <th>Url</th>\n",
       "    </tr>\n",
       "  </thead>\n",
       "  <tbody>\n",
       "  </tbody>\n",
       "</table>\n",
       "<p>0 rows × 21 columns</p>\n",
       "</div>"
      ],
      "text/plain": [
       "Empty DataFrame\n",
       "Columns: [Locality, Type of property, Subtype of property, Price, Type of sale, Number of rooms, Living Area, Fully equipped kitchen, Furnished, Open fire, Terrace, Terrace area, Garden, Garden area, Surface of the land, Surface area of the plot of land, Number of facades, Swimming pool, State of the building, Id, Url]\n",
       "Index: []\n",
       "\n",
       "[0 rows x 21 columns]"
      ]
     },
     "execution_count": 40,
     "metadata": {},
     "output_type": "execute_result"
    }
   ],
   "source": [
    "df"
   ]
  },
  {
   "cell_type": "code",
   "execution_count": null,
   "metadata": {},
   "outputs": [],
   "source": []
  },
  {
   "cell_type": "code",
   "execution_count": null,
   "metadata": {},
   "outputs": [],
   "source": []
  }
 ],
 "metadata": {
  "kernelspec": {
   "display_name": "venv",
   "language": "python",
   "name": "python3"
  },
  "language_info": {
   "codemirror_mode": {
    "name": "ipython",
    "version": 3
   },
   "file_extension": ".py",
   "mimetype": "text/x-python",
   "name": "python",
   "nbconvert_exporter": "python",
   "pygments_lexer": "ipython3",
   "version": "3.11.2"
  },
  "orig_nbformat": 4
 },
 "nbformat": 4,
 "nbformat_minor": 2
}
