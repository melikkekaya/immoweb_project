{
 "cells": [
  {
   "cell_type": "code",
   "execution_count": 5,
   "metadata": {},
   "outputs": [],
   "source": [
    "import requests, json, lxml, re\n",
    "from bs4 import BeautifulSoup\n",
    "from concurrent.futures import ThreadPoolExecutor\n",
    "from time import perf_counter\n",
    "import pandas as pd\n",
    "from typing import List, Dict\n",
    "import multiprocessing\n",
    "import concurrent.futures"
   ]
  },
  {
   "cell_type": "code",
   "execution_count": 2,
   "metadata": {},
   "outputs": [],
   "source": [
    "def get_from_search_page(search_url):\n",
    "    req = requests.get(search_url)\n",
    "    soup = BeautifulSoup(req.content, 'html.parser')\n",
    "    card_results = soup.find_all('article', class_='card--result')\n",
    "    immo_links = []\n",
    "    for article in card_results:\n",
    "        link = article.find('a', class_='card__title-link')\n",
    "        if link:\n",
    "            immo_links.append(link['href'])\n",
    "    return immo_links"
   ]
  },
  {
   "cell_type": "code",
   "execution_count": 10,
   "metadata": {},
   "outputs": [],
   "source": [
    "def get_url_list() -> List:\n",
    "    root_url = \"https://www.immoweb.be/en/search/\"\n",
    "    estate_types = ['house', 'apartment']\n",
    "    all_immo_links = []\n",
    "    search_links = []\n",
    "\n",
    "    for estate in estate_types:\n",
    "        for page in range(1,2):\n",
    "            url = f\"{root_url}{estate}/for-sale?countries=BE&page={page}&orderBy=relevance\"\n",
    "            search_links.append(url)\n",
    "    \n",
    "    with ThreadPoolExecutor() as pool:\n",
    "        all_immo_links = list(pool.map(get_from_search_page, search_links))\n",
    "    return all_immo_links"
   ]
  },
  {
   "cell_type": "code",
   "execution_count": 11,
   "metadata": {},
   "outputs": [
    {
     "name": "stdout",
     "output_type": "stream",
     "text": [
      "[['https://www.immoweb.be/en/classified/mansion/for-sale/puurs/2870/10566398', 'https://www.immoweb.be/en/classified/mansion/for-sale/ninove/9400/10566078', 'https://www.immoweb.be/en/classified/villa/for-sale/herent/3020/10522729', 'https://www.immoweb.be/en/classified/house/for-sale/liege/4000/10564022', 'https://www.immoweb.be/en/classified/mixed-use-building/for-sale/antwerp/2060/10564982', 'https://www.immoweb.be/en/classified/mixed-use-building/for-sale/antwerp/2060/10564986', 'https://www.immoweb.be/en/classified/apartment-block/for-sale/henri-chapelle/4841/10130670', 'https://www.immoweb.be/en/classified/house/for-sale/henri-chapelle/4841/10130669', 'https://www.immoweb.be/en/classified/mansion/for-sale/nivelles/1400/10193358', 'https://www.immoweb.be/en/classified/house/for-sale/donceel/4357/10563785', 'https://www.immoweb.be/en/classified/house/for-sale/jodoigne/1370/10564815', 'https://www.immoweb.be/en/classified/house/for-sale/beveren/9120/10561682', 'https://www.immoweb.be/en/classified/new-real-estate-project-houses/for-sale/wielsbeke/8710/10562540', 'https://www.immoweb.be/en/classified/new-real-estate-project-houses/for-sale/brakel/9660/10560751', 'https://www.immoweb.be/en/classified/villa/for-sale/andenne/5300/10561076', 'https://www.immoweb.be/en/classified/house/for-sale/woluwe-saint-lambert/1200/10560729', 'https://www.immoweb.be/en/classified/house/for-sale/oupeye/4680/10557728', 'https://www.immoweb.be/en/classified/house/for-sale/seraing/4100/10557227', 'https://www.immoweb.be/en/classified/new-real-estate-project-houses/for-sale/geraardsbergen/9500/10557395', 'https://www.immoweb.be/en/classified/new-real-estate-project-houses/for-sale/otegem/8553/10559828', 'https://www.immoweb.be/en/classified/house/for-sale/anderlecht/1070/10559699', 'https://www.immoweb.be/en/classified/house/for-sale/rixensart/1330/10557110', 'https://www.immoweb.be/en/classified/new-real-estate-project-houses/for-sale/olen/2250/10557604', 'https://www.immoweb.be/en/classified/villa/for-sale/rixensart/1330/10557112', 'https://www.immoweb.be/en/classified/new-real-estate-project-houses/for-sale/gent%20sint-amandsberg/9040/10557390', 'https://www.immoweb.be/en/classified/mixed-use-building/for-sale/aalst/9300/10557403', 'https://www.immoweb.be/en/classified/new-real-estate-project-houses/for-sale/westerlo/2260/10556366', 'https://www.immoweb.be/en/classified/house/for-sale/gooik/1755/10417975', 'https://www.immoweb.be/en/classified/bungalow/for-sale/steenokkerzeel/1820/10555241', 'https://www.immoweb.be/en/classified/house/for-sale/ixelles/1050/10554707'], ['https://www.immoweb.be/en/classified/apartment/for-sale/deinze/9800/10565436', 'https://www.immoweb.be/en/classified/apartment/for-sale/deinze/9800/10562026', 'https://www.immoweb.be/en/classified/apartment/for-sale/saint-ghislain/7333/10566161', 'https://www.immoweb.be/en/classified/apartment/for-sale/saint-ghislain/7333/10566160', 'https://www.immoweb.be/en/classified/apartment/for-sale/saint-ghislain/7333/10566159', 'https://www.immoweb.be/en/classified/duplex/for-sale/drongen/9031/10566825', 'https://www.immoweb.be/en/classified/apartment/for-sale/deinze/9800/10565433', 'https://www.immoweb.be/en/classified/apartment/for-sale/schaerbeek/1030/10565758', 'https://www.immoweb.be/en/classified/new-real-estate-project-apartments/for-sale/brussels%20city/1000/9881253', 'https://www.immoweb.be/en/classified/new-real-estate-project-apartments/for-sale/evere/1140/10565620', 'https://www.immoweb.be/en/classified/apartment/for-sale/bruxelles/1000/10565748', 'https://www.immoweb.be/en/classified/apartment/for-sale/bruxelles/1000/10565749', 'https://www.immoweb.be/en/classified/penthouse/for-sale/bruxelles/1130/10560964', 'https://www.immoweb.be/en/classified/apartment/for-sale/evere/1140/10560966', 'https://www.immoweb.be/en/classified/apartment/for-sale/ninove/9400/10563055', 'https://www.immoweb.be/en/classified/apartment/for-sale/etterbeek/1040/10550578', 'https://www.immoweb.be/en/classified/apartment/for-sale/merksem/2170/10565300', 'https://www.immoweb.be/en/classified/apartment/for-sale/borgerhout/2140/10564972', 'https://www.immoweb.be/en/classified/new-real-estate-project-apartments/for-sale/deinze/9800/10563685', 'https://www.immoweb.be/en/classified/flat-studio/for-sale/woluwe-saint-pierre/1150/10563238', 'https://www.immoweb.be/en/classified/new-real-estate-project-apartments/for-sale/herenthout/2270/10564722', 'https://www.immoweb.be/en/classified/new-real-estate-project-apartments/for-sale/evergem%20sleidinge/9940/10563592', 'https://www.immoweb.be/en/classified/apartment/for-sale/schaerbeek/1030/10564929', 'https://www.immoweb.be/en/classified/triplex/for-sale/kapelle-op-den-bos/1880/10562978', 'https://www.immoweb.be/en/classified/new-real-estate-project-apartments/for-sale/boutersem/3370/10563859', 'https://www.immoweb.be/en/classified/new-real-estate-project-apartments/for-sale/tielt/8700/10563671', 'https://www.immoweb.be/en/classified/new-real-estate-project-apartments/for-sale/oud-heverlee/3051/10563863', 'https://www.immoweb.be/en/classified/new-real-estate-project-apartments/for-sale/bruxelles/1000/10563202', 'https://www.immoweb.be/en/classified/new-real-estate-project-apartments/for-sale/gent%20centrum/9000/10564543', 'https://www.immoweb.be/en/classified/new-real-estate-project-apartments/for-sale/uccle/1180/10564706']]\n",
      "pool_time:  0.7441210410324857\n"
     ]
    }
   ],
   "source": [
    "start = perf_counter()\n",
    "print(get_url_list())\n",
    "end=perf_counter()\n",
    "pool_time = end-start\n",
    "print(\"pool_time: \", pool_time)"
   ]
  },
  {
   "cell_type": "code",
   "execution_count": 21,
   "metadata": {},
   "outputs": [
    {
     "name": "stdout",
     "output_type": "stream",
     "text": [
      "200\n"
     ]
    },
    {
     "data": {
      "text/plain": [
       "{'id': '10566398',\n",
       " 'type': 'house',\n",
       " 'subtype': 'mansion',\n",
       " 'price': '439000',\n",
       " 'transactionType': 'for sale',\n",
       " 'zip': '2870',\n",
       " 'visualisationOption': 'xl',\n",
       " 'kitchen': {'type': 'installed'},\n",
       " 'building': {'constructionYear': '1909', 'condition': 'to be done up'},\n",
       " 'energy': {'heatingType': 'gas'},\n",
       " 'certificates': {'primaryEnergyConsumptionLevel': '240'},\n",
       " 'bedroom': {'count': '4'},\n",
       " 'land': {'surface': '497'},\n",
       " 'atticExists': '',\n",
       " 'basementExists': 'true',\n",
       " 'outdoor': {'garden': {'surface': ''}, 'terrace': {'exists': 'true'}},\n",
       " 'specificities': {'SME': {'office': {'exists': 'true'}}},\n",
       " 'wellnessEquipment': {'hasSwimmingPool': ''},\n",
       " 'parking': {'parkingSpaceCount': {'indoor': '1', 'outdoor': ''}},\n",
       " 'condition': {'isNewlyBuilt': ''}}"
      ]
     },
     "execution_count": 21,
     "metadata": {},
     "output_type": "execute_result"
    }
   ],
   "source": [
    "def get_one_property_info(url_one_property:str) -> Dict: \n",
    "    req = requests.get(url_one_property)\n",
    "    print(req.status_code)\n",
    "    read_html_prop = pd.read_html(req.text)\n",
    "    df_one_property = pd.concat(read_html_prop, ignore_index=True)\n",
    "\n",
    "    list_of_property_info = []\n",
    "    window_data = re.findall(\"window.dataLayer =(.+?);\\n\", req.text, re.S)\n",
    "    if window_data:\n",
    "        list_of_property_info.append(json.loads(window_data[0])[0]['classified'])\n",
    "    print (list_of_property_info[0])\n",
    "    \n",
    "    house_dict = {}\n",
    "    house_dict[\"Id\"] = url_one_property.split(\"/\")[-1]\n",
    "\n",
    "    for i in df_one_property.index:\n",
    "        house_dict[df_one_property[0][i]] = df_one_property[1][i]\n",
    "\n",
    "    return house_dict\n",
    "\n",
    "# print(get_url_list()[0])\n",
    "get_one_property_info(\"https://www.immoweb.be/en/classified/mansion/for-sale/puurs/2870/10566398\")\n"
   ]
  },
  {
   "cell_type": "code",
   "execution_count": null,
   "metadata": {},
   "outputs": [],
   "source": [
    "def clean_data_to_csv():\n",
    "    \"\"\"\n",
    "    take info from get_one_prop_info() as json or dict,\n",
    "    and add them to a csv for only one property.\n",
    "    Mourad\n",
    "    \"\"\"\n",
    "    pass\n"
   ]
  },
  {
   "cell_type": "code",
   "execution_count": null,
   "metadata": {},
   "outputs": [],
   "source": [
    "\n",
    "def get_collective_data():\n",
    "    \"\"\"\n",
    "    clean_data_to_csv() for all urls from get_url_list() using pool\n",
    "    \"\"\"\n",
    "    pass"
   ]
  },
  {
   "cell_type": "code",
   "execution_count": null,
   "metadata": {},
   "outputs": [],
   "source": [
    "def cleaning_data_from_csv():\n",
    "    \"\"\"\n",
    "    \n",
    "    \"\"\"\n",
    "    pass"
   ]
  },
  {
   "cell_type": "code",
   "execution_count": null,
   "metadata": {},
   "outputs": [],
   "source": [
    "headers_df = [\n",
    "        \"Id\",\n",
    "        \"Locality\",\n",
    "        \"Type of property\",\n",
    "        \"Subtype of property\",\n",
    "        \"Price\",\n",
    "        \"Type of sale\",\n",
    "        \"Number of rooms\",\n",
    "        \"Living Area\",\n",
    "        \"Fully equipped kitchen\",\n",
    "        \"Furnished\",\n",
    "        \"Open fire\",\n",
    "        \"Terrace\",\n",
    "        \"Terrace area\",\n",
    "        \"Garden\",\n",
    "        \"Garden area\",\n",
    "        \"Surface of the land\",\n",
    "        \"Surface area of the plot of land\",\n",
    "        \"Number of facades\",\n",
    "        \"Swimming pool\",\n",
    "        \"State of the building\",\n",
    "        \"Url\"\n",
    "    ]\n",
    "\n",
    "df = pd.DataFrame(columns=headers_df)"
   ]
  },
  {
   "cell_type": "code",
   "execution_count": 36,
   "metadata": {},
   "outputs": [],
   "source": [
    "url = 'https://www.immoweb.be/en/classified/mansion/for-sale/puurs/2870/10566398'\n",
    "content = requests.get(url).content\n",
    "all_tables = pd.read_html(content,keep_default_na=False)\n",
    "data_frame_houses = pd.concat(all_tables,  ignore_index=True)"
   ]
  },
  {
   "cell_type": "code",
   "execution_count": null,
   "metadata": {},
   "outputs": [],
   "source": [
    "data_frame_houses"
   ]
  },
  {
   "cell_type": "code",
   "execution_count": 38,
   "metadata": {},
   "outputs": [
    {
     "data": {
      "text/plain": [
       "{'Construction year': '1909',\n",
       " 'Building condition': 'To be done up',\n",
       " 'Street frontage width': '10 m',\n",
       " 'Number of frontages': '2',\n",
       " 'Covered parking spaces': '1',\n",
       " 'Living area': '282  m² square meters',\n",
       " 'Living room surface': '52  m² square meters',\n",
       " 'Kitchen type': 'Installed',\n",
       " 'Kitchen surface': '14  m² square meters',\n",
       " 'Bedrooms': '4',\n",
       " 'Bedroom 1 surface': '19  m² square meters',\n",
       " 'Bedroom 2 surface': '17  m² square meters',\n",
       " 'Bedroom 3 surface': '17  m² square meters',\n",
       " 'Bathrooms': '1',\n",
       " 'Toilets': '2',\n",
       " 'Office surface': '28  m² square meters',\n",
       " 'Office': 'Yes',\n",
       " 'Basement': 'Yes',\n",
       " 'Surface of the plot': '497  m²  square meters',\n",
       " 'Width of the lot on the street': '10 m  meters',\n",
       " 'Gas, water & electricity': 'No',\n",
       " 'Garden': 'Yes',\n",
       " 'Garden orientation': 'East',\n",
       " 'Terrace surface': '40  m²  square meters',\n",
       " 'Primary energy consumption': '240  kWh/m²  kilowatt hour per square meters',\n",
       " 'Energy class': 'C',\n",
       " '': '',\n",
       " 'Reference number of the EPC report': '20230308-0002314212-RES-4',\n",
       " 'CO₂ emission': 'Not specified',\n",
       " 'Yearly theoretical total energy consumption': 'Not specified',\n",
       " 'As built plan': 'No',\n",
       " 'Heating type': 'Gas',\n",
       " 'Double glazing': 'Yes',\n",
       " 'Planning permission obtained': 'Yes',\n",
       " 'Subdivision permit': 'No',\n",
       " 'Possible priority purchase right': 'No',\n",
       " 'Proceedings for breach of planning regulations': 'No',\n",
       " 'Flood zone type': 'Non flood zone',\n",
       " 'Latest land use designation': 'Living area (residential, urban or rural)',\n",
       " 'Price': '€ 439,000  439000 €',\n",
       " 'Cadastral income': '€ 733  733 €',\n",
       " 'Tenement building': 'No',\n",
       " 'Address': 'Dorpshart 10 2870  - Puurs',\n",
       " 'Website': 'http://www.trevi-axus.be',\n",
       " 'External reference': '9881 - TK/23042/8'}"
      ]
     },
     "execution_count": 38,
     "metadata": {},
     "output_type": "execute_result"
    }
   ],
   "source": [
    "house_dict = {}\n",
    "# bu sözlüğe önce id eklenebilir \n",
    "for i in data_frame_houses.index:\n",
    "    house_dict[data_frame_houses[0][i]] = data_frame_houses[1][i]\n",
    "house_dict"
   ]
  },
  {
   "cell_type": "code",
   "execution_count": 20,
   "metadata": {},
   "outputs": [],
   "source": [
    "# house_keys = data_frame_houses.iloc[:,0]\n",
    "# house_values = data_frame_houses.iloc[:,1]"
   ]
  },
  {
   "cell_type": "code",
   "execution_count": 39,
   "metadata": {},
   "outputs": [],
   "source": [
    "headers_df = [\n",
    "        \"Locality\",\n",
    "        \"Type of property\",\n",
    "        \"Subtype of property\",\n",
    "        \"Price\",\n",
    "        \"Type of sale\",\n",
    "        \"Number of rooms\",\n",
    "        \"Living Area\",\n",
    "        \"Fully equipped kitchen\",\n",
    "        \"Furnished\",\n",
    "        \"Open fire\",\n",
    "        \"Terrace\",\n",
    "        \"Terrace area\",\n",
    "        \"Garden\",\n",
    "        \"Garden area\",\n",
    "        \"Surface of the land\",\n",
    "        \"Surface area of the plot of land\",\n",
    "        \"Number of facades\",\n",
    "        \"Swimming pool\",\n",
    "        \"State of the building\",\n",
    "        \"Id\",\n",
    "        \"Url\"\n",
    "    ]\n",
    "\n",
    "df = pd.DataFrame(columns=headers_df)"
   ]
  },
  {
   "cell_type": "code",
   "execution_count": 40,
   "metadata": {},
   "outputs": [
    {
     "data": {
      "text/html": [
       "<div>\n",
       "<style scoped>\n",
       "    .dataframe tbody tr th:only-of-type {\n",
       "        vertical-align: middle;\n",
       "    }\n",
       "\n",
       "    .dataframe tbody tr th {\n",
       "        vertical-align: top;\n",
       "    }\n",
       "\n",
       "    .dataframe thead th {\n",
       "        text-align: right;\n",
       "    }\n",
       "</style>\n",
       "<table border=\"1\" class=\"dataframe\">\n",
       "  <thead>\n",
       "    <tr style=\"text-align: right;\">\n",
       "      <th></th>\n",
       "      <th>Locality</th>\n",
       "      <th>Type of property</th>\n",
       "      <th>Subtype of property</th>\n",
       "      <th>Price</th>\n",
       "      <th>Type of sale</th>\n",
       "      <th>Number of rooms</th>\n",
       "      <th>Living Area</th>\n",
       "      <th>Fully equipped kitchen</th>\n",
       "      <th>Furnished</th>\n",
       "      <th>Open fire</th>\n",
       "      <th>...</th>\n",
       "      <th>Terrace area</th>\n",
       "      <th>Garden</th>\n",
       "      <th>Garden area</th>\n",
       "      <th>Surface of the land</th>\n",
       "      <th>Surface area of the plot of land</th>\n",
       "      <th>Number of facades</th>\n",
       "      <th>Swimming pool</th>\n",
       "      <th>State of the building</th>\n",
       "      <th>Id</th>\n",
       "      <th>Url</th>\n",
       "    </tr>\n",
       "  </thead>\n",
       "  <tbody>\n",
       "  </tbody>\n",
       "</table>\n",
       "<p>0 rows × 21 columns</p>\n",
       "</div>"
      ],
      "text/plain": [
       "Empty DataFrame\n",
       "Columns: [Locality, Type of property, Subtype of property, Price, Type of sale, Number of rooms, Living Area, Fully equipped kitchen, Furnished, Open fire, Terrace, Terrace area, Garden, Garden area, Surface of the land, Surface area of the plot of land, Number of facades, Swimming pool, State of the building, Id, Url]\n",
       "Index: []\n",
       "\n",
       "[0 rows x 21 columns]"
      ]
     },
     "execution_count": 40,
     "metadata": {},
     "output_type": "execute_result"
    }
   ],
   "source": [
    "df"
   ]
  },
  {
   "cell_type": "code",
   "execution_count": null,
   "metadata": {},
   "outputs": [],
   "source": []
  },
  {
   "cell_type": "code",
   "execution_count": null,
   "metadata": {},
   "outputs": [],
   "source": []
  }
 ],
 "metadata": {
  "kernelspec": {
   "display_name": "venv",
   "language": "python",
   "name": "python3"
  },
  "language_info": {
   "codemirror_mode": {
    "name": "ipython",
    "version": 3
   },
   "file_extension": ".py",
   "mimetype": "text/x-python",
   "name": "python",
   "nbconvert_exporter": "python",
   "pygments_lexer": "ipython3",
   "version": "3.11.2"
  },
  "orig_nbformat": 4
 },
 "nbformat": 4,
 "nbformat_minor": 2
}
