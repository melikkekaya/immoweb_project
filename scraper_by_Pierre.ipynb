{
 "cells": [
  {
   "cell_type": "code",
   "execution_count": 12,
   "metadata": {},
   "outputs": [],
   "source": [
    "import functools\n",
    "import itertools\n",
    "import requests\n",
    "import json\n",
    "import pandas as pd\n",
    "from tqdm.contrib.concurrent import thread_map"
   ]
  },
  {
   "cell_type": "code",
   "execution_count": 13,
   "metadata": {},
   "outputs": [],
   "source": [
    "def get_price_range(min_price, max_price, session, properties_per_page=30):\n",
    "    api_url = f\"https://www.immoweb.be/en/search-results/house-and-apartment/for-sale?countries=BE&page=1&orderBy=newest&isALifeAnnuitySale=false&minPrice={min_price}&maxPrice={max_price}\"\n",
    "    num_pages = session.get(api_url).json()['marketingCount'] // properties_per_page + 1 # total nb of properties / nb of properties per page\n",
    "    if num_pages > 333: # there is a hard limit of 333 pages\n",
    "        mid_price = (min_price + max_price) // 2 \n",
    "        return get_price_range(min_price, mid_price, session).union(get_price_range(mid_price, max_price, session)) # split the range in two. Union prevents duplicates.\n",
    "    return get_ids_for_category(min_price, max_price, num_pages, session)\n",
    "\n",
    "def get_ids_from_page(i, min_price, max_price, session):\n",
    "    api_url = f\"https://www.immoweb.be/en/search-results/house-and-apartment/for-sale?countries=BE&page={i}&orderBy=newest&isALifeAnnuitySale=false&minPrice={min_price}&maxPrice={max_price}\"\n",
    "    return set(result['id'] for result in session.get(api_url).json()['results'])\n",
    "\n",
    "def get_ids_for_category(min_price, max_price, num_pages, session):\n",
    "    return set(itertools.chain.from_iterable(thread_map(functools.partial(get_ids_from_page, min_price=min_price, max_price=max_price, session=session), range(1, num_pages+ 1), max_workers=64)))\n",
    "\n",
    "def get_property(id, session):\n",
    "    property_url = f\"http://www.immoweb.be/en/classified/{id}\"\n",
    "    \n",
    "    tables = pd.read_html(session.get(property_url, timeout=5).text)\n",
    "    df = pd.concat(tables).set_index(0).T\n",
    "    df['id'] = id\n",
    "    df = df.set_index('id')\n",
    "    return df.loc[:, ~df.columns.duplicated()]\n",
    "\n",
    "\n",
    "def get_properties_by_id(ids, session, max_workers=64):\n",
    "    return pd.concat(thread_map(functools.partial(get_property, session=session), ids, max_workers=max_workers))\n",
    "\n",
    "def get_properties():\n",
    "    with requests.Session() as session:\n",
    "        ids = get_price_range(min_price=0, max_price=10**8, session=session)\n",
    "        return get_properties_by_id(ids, session)"
   ]
  },
  {
   "cell_type": "code",
   "execution_count": 16,
   "metadata": {},
   "outputs": [
    {
     "name": "stderr",
     "output_type": "stream",
     "text": [
      "100%|██████████| 52/52 [00:00<00:00, 68.95it/s]\n",
      "100%|██████████| 135/135 [00:01<00:00, 102.64it/s]\n",
      "100%|██████████| 270/270 [00:02<00:00, 106.86it/s]\n",
      "100%|██████████| 316/316 [00:02<00:00, 126.40it/s]\n",
      "100%|██████████| 218/218 [00:02<00:00, 106.05it/s]\n",
      "100%|██████████| 222/222 [00:01<00:00, 128.68it/s]\n",
      "100%|██████████| 214/214 [00:01<00:00, 126.18it/s]\n",
      "100%|██████████| 198/198 [00:01<00:00, 112.13it/s]\n",
      "100%|██████████| 313/313 [00:02<00:00, 122.76it/s]\n",
      "100%|██████████| 234/234 [00:02<00:00, 100.81it/s]\n",
      "100%|██████████| 178/178 [00:01<00:00, 126.67it/s]\n",
      " 89%|████████▉ | 200/224 [00:11<00:01, 17.70it/s]\n"
     ]
    },
    {
     "ename": "TypeError",
     "evalue": "list indices must be integers or slices, not str",
     "output_type": "error",
     "traceback": [
      "\u001b[1;31m---------------------------------------------------------------------------\u001b[0m",
      "\u001b[1;31mTypeError\u001b[0m                                 Traceback (most recent call last)",
      "Cell \u001b[1;32mIn[16], line 4\u001b[0m\n\u001b[0;32m      1\u001b[0m \u001b[39mimport\u001b[39;00m \u001b[39mtime\u001b[39;00m\n\u001b[0;32m      3\u001b[0m start \u001b[39m=\u001b[39m time\u001b[39m.\u001b[39mtime()\n\u001b[1;32m----> 4\u001b[0m properties \u001b[39m=\u001b[39m get_properties()\n\u001b[0;32m      5\u001b[0m properties\u001b[39m.\u001b[39mto_csv(\u001b[39m'\u001b[39m\u001b[39mproperties_pierre.csv\u001b[39m\u001b[39m'\u001b[39m)\n\u001b[0;32m      6\u001b[0m end \u001b[39m=\u001b[39m time\u001b[39m.\u001b[39mtime()\n",
      "Cell \u001b[1;32mIn[13], line 31\u001b[0m, in \u001b[0;36mget_properties\u001b[1;34m()\u001b[0m\n\u001b[0;32m     29\u001b[0m \u001b[39mdef\u001b[39;00m \u001b[39mget_properties\u001b[39m():\n\u001b[0;32m     30\u001b[0m     \u001b[39mwith\u001b[39;00m requests\u001b[39m.\u001b[39mSession() \u001b[39mas\u001b[39;00m session:\n\u001b[1;32m---> 31\u001b[0m         ids \u001b[39m=\u001b[39m get_price_range(min_price\u001b[39m=\u001b[39;49m\u001b[39m0\u001b[39;49m, max_price\u001b[39m=\u001b[39;49m\u001b[39m10\u001b[39;49m\u001b[39m*\u001b[39;49m\u001b[39m*\u001b[39;49m\u001b[39m8\u001b[39;49m, session\u001b[39m=\u001b[39;49msession)\n\u001b[0;32m     32\u001b[0m         \u001b[39mreturn\u001b[39;00m get_properties_by_id(ids, session)\n",
      "Cell \u001b[1;32mIn[13], line 6\u001b[0m, in \u001b[0;36mget_price_range\u001b[1;34m(min_price, max_price, session, properties_per_page)\u001b[0m\n\u001b[0;32m      4\u001b[0m \u001b[39mif\u001b[39;00m num_pages \u001b[39m>\u001b[39m \u001b[39m333\u001b[39m: \u001b[39m# there is a hard limit of 333 pages\u001b[39;00m\n\u001b[0;32m      5\u001b[0m     mid_price \u001b[39m=\u001b[39m (min_price \u001b[39m+\u001b[39m max_price) \u001b[39m/\u001b[39m\u001b[39m/\u001b[39m \u001b[39m2\u001b[39m \n\u001b[1;32m----> 6\u001b[0m     \u001b[39mreturn\u001b[39;00m get_price_range(min_price, mid_price, session)\u001b[39m.\u001b[39munion(get_price_range(mid_price, max_price, session)) \u001b[39m# split the range in two. Union prevents duplicates.\u001b[39;00m\n\u001b[0;32m      7\u001b[0m \u001b[39mreturn\u001b[39;00m get_ids_for_category(min_price, max_price, num_pages, session)\n",
      "Cell \u001b[1;32mIn[13], line 6\u001b[0m, in \u001b[0;36mget_price_range\u001b[1;34m(min_price, max_price, session, properties_per_page)\u001b[0m\n\u001b[0;32m      4\u001b[0m \u001b[39mif\u001b[39;00m num_pages \u001b[39m>\u001b[39m \u001b[39m333\u001b[39m: \u001b[39m# there is a hard limit of 333 pages\u001b[39;00m\n\u001b[0;32m      5\u001b[0m     mid_price \u001b[39m=\u001b[39m (min_price \u001b[39m+\u001b[39m max_price) \u001b[39m/\u001b[39m\u001b[39m/\u001b[39m \u001b[39m2\u001b[39m \n\u001b[1;32m----> 6\u001b[0m     \u001b[39mreturn\u001b[39;00m get_price_range(min_price, mid_price, session)\u001b[39m.\u001b[39munion(get_price_range(mid_price, max_price, session)) \u001b[39m# split the range in two. Union prevents duplicates.\u001b[39;00m\n\u001b[0;32m      7\u001b[0m \u001b[39mreturn\u001b[39;00m get_ids_for_category(min_price, max_price, num_pages, session)\n",
      "    \u001b[1;31m[... skipping similar frames: get_price_range at line 6 (7 times)]\u001b[0m\n",
      "Cell \u001b[1;32mIn[13], line 6\u001b[0m, in \u001b[0;36mget_price_range\u001b[1;34m(min_price, max_price, session, properties_per_page)\u001b[0m\n\u001b[0;32m      4\u001b[0m \u001b[39mif\u001b[39;00m num_pages \u001b[39m>\u001b[39m \u001b[39m333\u001b[39m: \u001b[39m# there is a hard limit of 333 pages\u001b[39;00m\n\u001b[0;32m      5\u001b[0m     mid_price \u001b[39m=\u001b[39m (min_price \u001b[39m+\u001b[39m max_price) \u001b[39m/\u001b[39m\u001b[39m/\u001b[39m \u001b[39m2\u001b[39m \n\u001b[1;32m----> 6\u001b[0m     \u001b[39mreturn\u001b[39;00m get_price_range(min_price, mid_price, session)\u001b[39m.\u001b[39munion(get_price_range(mid_price, max_price, session)) \u001b[39m# split the range in two. Union prevents duplicates.\u001b[39;00m\n\u001b[0;32m      7\u001b[0m \u001b[39mreturn\u001b[39;00m get_ids_for_category(min_price, max_price, num_pages, session)\n",
      "Cell \u001b[1;32mIn[13], line 7\u001b[0m, in \u001b[0;36mget_price_range\u001b[1;34m(min_price, max_price, session, properties_per_page)\u001b[0m\n\u001b[0;32m      5\u001b[0m     mid_price \u001b[39m=\u001b[39m (min_price \u001b[39m+\u001b[39m max_price) \u001b[39m/\u001b[39m\u001b[39m/\u001b[39m \u001b[39m2\u001b[39m \n\u001b[0;32m      6\u001b[0m     \u001b[39mreturn\u001b[39;00m get_price_range(min_price, mid_price, session)\u001b[39m.\u001b[39munion(get_price_range(mid_price, max_price, session)) \u001b[39m# split the range in two. Union prevents duplicates.\u001b[39;00m\n\u001b[1;32m----> 7\u001b[0m \u001b[39mreturn\u001b[39;00m get_ids_for_category(min_price, max_price, num_pages, session)\n",
      "Cell \u001b[1;32mIn[13], line 14\u001b[0m, in \u001b[0;36mget_ids_for_category\u001b[1;34m(min_price, max_price, num_pages, session)\u001b[0m\n\u001b[0;32m     13\u001b[0m \u001b[39mdef\u001b[39;00m \u001b[39mget_ids_for_category\u001b[39m(min_price, max_price, num_pages, session):\n\u001b[1;32m---> 14\u001b[0m     \u001b[39mreturn\u001b[39;00m \u001b[39mset\u001b[39m(itertools\u001b[39m.\u001b[39mchain\u001b[39m.\u001b[39mfrom_iterable(thread_map(functools\u001b[39m.\u001b[39;49mpartial(get_ids_from_page, min_price\u001b[39m=\u001b[39;49mmin_price, max_price\u001b[39m=\u001b[39;49mmax_price, session\u001b[39m=\u001b[39;49msession), \u001b[39mrange\u001b[39;49m(\u001b[39m1\u001b[39;49m, num_pages\u001b[39m+\u001b[39;49m \u001b[39m1\u001b[39;49m), max_workers\u001b[39m=\u001b[39;49m\u001b[39m64\u001b[39;49m)))\n",
      "File \u001b[1;32mc:\\Users\\Mourad\\AppData\\Local\\Programs\\Python\\Python310\\lib\\site-packages\\tqdm\\contrib\\concurrent.py:69\u001b[0m, in \u001b[0;36mthread_map\u001b[1;34m(fn, *iterables, **tqdm_kwargs)\u001b[0m\n\u001b[0;32m     55\u001b[0m \u001b[39m\u001b[39m\u001b[39m\"\"\"\u001b[39;00m\n\u001b[0;32m     56\u001b[0m \u001b[39mEquivalent of `list(map(fn, *iterables))`\u001b[39;00m\n\u001b[0;32m     57\u001b[0m \u001b[39mdriven by `concurrent.futures.ThreadPoolExecutor`.\u001b[39;00m\n\u001b[1;32m   (...)\u001b[0m\n\u001b[0;32m     66\u001b[0m \u001b[39m    [default: max(32, cpu_count() + 4)].\u001b[39;00m\n\u001b[0;32m     67\u001b[0m \u001b[39m\"\"\"\u001b[39;00m\n\u001b[0;32m     68\u001b[0m \u001b[39mfrom\u001b[39;00m \u001b[39mconcurrent\u001b[39;00m\u001b[39m.\u001b[39;00m\u001b[39mfutures\u001b[39;00m \u001b[39mimport\u001b[39;00m ThreadPoolExecutor\n\u001b[1;32m---> 69\u001b[0m \u001b[39mreturn\u001b[39;00m _executor_map(ThreadPoolExecutor, fn, \u001b[39m*\u001b[39miterables, \u001b[39m*\u001b[39m\u001b[39m*\u001b[39mtqdm_kwargs)\n",
      "File \u001b[1;32mc:\\Users\\Mourad\\AppData\\Local\\Programs\\Python\\Python310\\lib\\site-packages\\tqdm\\contrib\\concurrent.py:51\u001b[0m, in \u001b[0;36m_executor_map\u001b[1;34m(PoolExecutor, fn, *iterables, **tqdm_kwargs)\u001b[0m\n\u001b[0;32m     47\u001b[0m \u001b[39mwith\u001b[39;00m ensure_lock(tqdm_class, lock_name\u001b[39m=\u001b[39mlock_name) \u001b[39mas\u001b[39;00m lk:\n\u001b[0;32m     48\u001b[0m     \u001b[39m# share lock in case workers are already using `tqdm`\u001b[39;00m\n\u001b[0;32m     49\u001b[0m     \u001b[39mwith\u001b[39;00m PoolExecutor(max_workers\u001b[39m=\u001b[39mmax_workers, initializer\u001b[39m=\u001b[39mtqdm_class\u001b[39m.\u001b[39mset_lock,\n\u001b[0;32m     50\u001b[0m                       initargs\u001b[39m=\u001b[39m(lk,)) \u001b[39mas\u001b[39;00m ex:\n\u001b[1;32m---> 51\u001b[0m         \u001b[39mreturn\u001b[39;00m \u001b[39mlist\u001b[39;49m(tqdm_class(ex\u001b[39m.\u001b[39;49mmap(fn, \u001b[39m*\u001b[39;49miterables, chunksize\u001b[39m=\u001b[39;49mchunksize), \u001b[39m*\u001b[39;49m\u001b[39m*\u001b[39;49mkwargs))\n",
      "File \u001b[1;32mc:\\Users\\Mourad\\AppData\\Local\\Programs\\Python\\Python310\\lib\\site-packages\\tqdm\\std.py:1178\u001b[0m, in \u001b[0;36mtqdm.__iter__\u001b[1;34m(self)\u001b[0m\n\u001b[0;32m   1175\u001b[0m time \u001b[39m=\u001b[39m \u001b[39mself\u001b[39m\u001b[39m.\u001b[39m_time\n\u001b[0;32m   1177\u001b[0m \u001b[39mtry\u001b[39;00m:\n\u001b[1;32m-> 1178\u001b[0m     \u001b[39mfor\u001b[39;00m obj \u001b[39min\u001b[39;00m iterable:\n\u001b[0;32m   1179\u001b[0m         \u001b[39myield\u001b[39;00m obj\n\u001b[0;32m   1180\u001b[0m         \u001b[39m# Update and possibly print the progressbar.\u001b[39;00m\n\u001b[0;32m   1181\u001b[0m         \u001b[39m# Note: does not call self.update(1) for speed optimisation.\u001b[39;00m\n",
      "File \u001b[1;32mc:\\Users\\Mourad\\AppData\\Local\\Programs\\Python\\Python310\\lib\\concurrent\\futures\\_base.py:621\u001b[0m, in \u001b[0;36mExecutor.map.<locals>.result_iterator\u001b[1;34m()\u001b[0m\n\u001b[0;32m    618\u001b[0m \u001b[39mwhile\u001b[39;00m fs:\n\u001b[0;32m    619\u001b[0m     \u001b[39m# Careful not to keep a reference to the popped future\u001b[39;00m\n\u001b[0;32m    620\u001b[0m     \u001b[39mif\u001b[39;00m timeout \u001b[39mis\u001b[39;00m \u001b[39mNone\u001b[39;00m:\n\u001b[1;32m--> 621\u001b[0m         \u001b[39myield\u001b[39;00m _result_or_cancel(fs\u001b[39m.\u001b[39;49mpop())\n\u001b[0;32m    622\u001b[0m     \u001b[39melse\u001b[39;00m:\n\u001b[0;32m    623\u001b[0m         \u001b[39myield\u001b[39;00m _result_or_cancel(fs\u001b[39m.\u001b[39mpop(), end_time \u001b[39m-\u001b[39m time\u001b[39m.\u001b[39mmonotonic())\n",
      "File \u001b[1;32mc:\\Users\\Mourad\\AppData\\Local\\Programs\\Python\\Python310\\lib\\concurrent\\futures\\_base.py:319\u001b[0m, in \u001b[0;36m_result_or_cancel\u001b[1;34m(***failed resolving arguments***)\u001b[0m\n\u001b[0;32m    317\u001b[0m \u001b[39mtry\u001b[39;00m:\n\u001b[0;32m    318\u001b[0m     \u001b[39mtry\u001b[39;00m:\n\u001b[1;32m--> 319\u001b[0m         \u001b[39mreturn\u001b[39;00m fut\u001b[39m.\u001b[39;49mresult(timeout)\n\u001b[0;32m    320\u001b[0m     \u001b[39mfinally\u001b[39;00m:\n\u001b[0;32m    321\u001b[0m         fut\u001b[39m.\u001b[39mcancel()\n",
      "File \u001b[1;32mc:\\Users\\Mourad\\AppData\\Local\\Programs\\Python\\Python310\\lib\\concurrent\\futures\\_base.py:451\u001b[0m, in \u001b[0;36mFuture.result\u001b[1;34m(self, timeout)\u001b[0m\n\u001b[0;32m    449\u001b[0m     \u001b[39mraise\u001b[39;00m CancelledError()\n\u001b[0;32m    450\u001b[0m \u001b[39melif\u001b[39;00m \u001b[39mself\u001b[39m\u001b[39m.\u001b[39m_state \u001b[39m==\u001b[39m FINISHED:\n\u001b[1;32m--> 451\u001b[0m     \u001b[39mreturn\u001b[39;00m \u001b[39mself\u001b[39;49m\u001b[39m.\u001b[39;49m__get_result()\n\u001b[0;32m    453\u001b[0m \u001b[39mself\u001b[39m\u001b[39m.\u001b[39m_condition\u001b[39m.\u001b[39mwait(timeout)\n\u001b[0;32m    455\u001b[0m \u001b[39mif\u001b[39;00m \u001b[39mself\u001b[39m\u001b[39m.\u001b[39m_state \u001b[39min\u001b[39;00m [CANCELLED, CANCELLED_AND_NOTIFIED]:\n",
      "File \u001b[1;32mc:\\Users\\Mourad\\AppData\\Local\\Programs\\Python\\Python310\\lib\\concurrent\\futures\\_base.py:403\u001b[0m, in \u001b[0;36mFuture.__get_result\u001b[1;34m(self)\u001b[0m\n\u001b[0;32m    401\u001b[0m \u001b[39mif\u001b[39;00m \u001b[39mself\u001b[39m\u001b[39m.\u001b[39m_exception:\n\u001b[0;32m    402\u001b[0m     \u001b[39mtry\u001b[39;00m:\n\u001b[1;32m--> 403\u001b[0m         \u001b[39mraise\u001b[39;00m \u001b[39mself\u001b[39m\u001b[39m.\u001b[39m_exception\n\u001b[0;32m    404\u001b[0m     \u001b[39mfinally\u001b[39;00m:\n\u001b[0;32m    405\u001b[0m         \u001b[39m# Break a reference cycle with the exception in self._exception\u001b[39;00m\n\u001b[0;32m    406\u001b[0m         \u001b[39mself\u001b[39m \u001b[39m=\u001b[39m \u001b[39mNone\u001b[39;00m\n",
      "File \u001b[1;32mc:\\Users\\Mourad\\AppData\\Local\\Programs\\Python\\Python310\\lib\\concurrent\\futures\\thread.py:58\u001b[0m, in \u001b[0;36m_WorkItem.run\u001b[1;34m(self)\u001b[0m\n\u001b[0;32m     55\u001b[0m     \u001b[39mreturn\u001b[39;00m\n\u001b[0;32m     57\u001b[0m \u001b[39mtry\u001b[39;00m:\n\u001b[1;32m---> 58\u001b[0m     result \u001b[39m=\u001b[39m \u001b[39mself\u001b[39m\u001b[39m.\u001b[39mfn(\u001b[39m*\u001b[39m\u001b[39mself\u001b[39m\u001b[39m.\u001b[39margs, \u001b[39m*\u001b[39m\u001b[39m*\u001b[39m\u001b[39mself\u001b[39m\u001b[39m.\u001b[39mkwargs)\n\u001b[0;32m     59\u001b[0m \u001b[39mexcept\u001b[39;00m \u001b[39mBaseException\u001b[39;00m \u001b[39mas\u001b[39;00m exc:\n\u001b[0;32m     60\u001b[0m     \u001b[39mself\u001b[39m\u001b[39m.\u001b[39mfuture\u001b[39m.\u001b[39mset_exception(exc)\n",
      "Cell \u001b[1;32mIn[13], line 11\u001b[0m, in \u001b[0;36mget_ids_from_page\u001b[1;34m(i, min_price, max_price, session)\u001b[0m\n\u001b[0;32m      9\u001b[0m \u001b[39mdef\u001b[39;00m \u001b[39mget_ids_from_page\u001b[39m(i, min_price, max_price, session):\n\u001b[0;32m     10\u001b[0m     api_url \u001b[39m=\u001b[39m \u001b[39mf\u001b[39m\u001b[39m\"\u001b[39m\u001b[39mhttps://www.immoweb.be/en/search-results/house-and-apartment/for-sale?countries=BE&page=\u001b[39m\u001b[39m{\u001b[39;00mi\u001b[39m}\u001b[39;00m\u001b[39m&orderBy=newest&isALifeAnnuitySale=false&minPrice=\u001b[39m\u001b[39m{\u001b[39;00mmin_price\u001b[39m}\u001b[39;00m\u001b[39m&maxPrice=\u001b[39m\u001b[39m{\u001b[39;00mmax_price\u001b[39m}\u001b[39;00m\u001b[39m\"\u001b[39m\n\u001b[1;32m---> 11\u001b[0m     \u001b[39mreturn\u001b[39;00m \u001b[39mset\u001b[39m(result[\u001b[39m'\u001b[39m\u001b[39mid\u001b[39m\u001b[39m'\u001b[39m] \u001b[39mfor\u001b[39;00m result \u001b[39min\u001b[39;00m session\u001b[39m.\u001b[39;49mget(api_url)\u001b[39m.\u001b[39;49mjson()[\u001b[39m'\u001b[39;49m\u001b[39mresults\u001b[39;49m\u001b[39m'\u001b[39;49m])\n",
      "\u001b[1;31mTypeError\u001b[0m: list indices must be integers or slices, not str"
     ]
    }
   ],
   "source": [
    "import time\n",
    "\n",
    "start = time.time()\n",
    "properties = get_properties()\n",
    "properties.to_csv('properties_pierre.csv')\n",
    "end = time.time()\n",
    "\n",
    "print(f\"Time elapsed: {end - start} seconds.\")\n",
    "print(f\"Number of properties: {len(properties)}\")\n",
    "print(f\"Number of properties per second: {len(properties) / (end - start)}\")\n",
    "print(f\"Number of seconds per property: {(end - start) / len(properties)}\")"
   ]
  },
  {
   "cell_type": "markdown",
   "metadata": {},
   "source": []
  }
 ],
 "metadata": {
  "kernelspec": {
   "display_name": "Python 3.10.6 64-bit",
   "language": "python",
   "name": "python3"
  },
  "language_info": {
   "codemirror_mode": {
    "name": "ipython",
    "version": 3
   },
   "file_extension": ".py",
   "mimetype": "text/x-python",
   "name": "python",
   "nbconvert_exporter": "python",
   "pygments_lexer": "ipython3",
   "version": "3.10.11"
  },
  "orig_nbformat": 4,
  "vscode": {
   "interpreter": {
    "hash": "b0fa6594d8f4cbf19f97940f81e996739fb7646882a419484c72d19e05852a7e"
   }
  }
 },
 "nbformat": 4,
 "nbformat_minor": 2
}
