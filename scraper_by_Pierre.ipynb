{
 "cells": [
  {
   "cell_type": "code",
   "execution_count": null,
   "metadata": {},
   "outputs": [],
   "source": [
    "import functools\n",
    "import itertools\n",
    "import requests\n",
    "import pandas as pd\n",
    "from tqdm.contrib.concurrent import thread_map"
   ]
  },
  {
   "cell_type": "code",
   "execution_count": null,
   "metadata": {},
   "outputs": [],
   "source": [
    "def get_price_range(min_price, max_price, session, properties_per_page=30):\n",
    "    api_url = f\"https://www.immoweb.be/en/search-results/house-and-apartment/for-sale?countries=BE&page=1&orderBy=newest&isALifeAnnuitySale=false&minPrice={minPrice}&maxPrice={maxPrice}\"\n",
    "    num_pages = session.get(api_url).json()['marketingCount'] // properties_per_page + 1 # total nb of properties / nb of properties per page\n",
    "    if num_pages > 333: # there is a hard limit of 333 pages\n",
    "        mid_price = (min_price + max_price) // 2 \n",
    "        return get_price_range(min_price, mid_price, session).union(get_price_range(mid_price, max_price, session)) # split the range in two. Union prevents duplicates.\n",
    "    return get_ids_for_category(min_price, max_price, num_pages, session)\n",
    "\n",
    "def get_ids_from_page(i, min_price, max_price, session):\n",
    "    api_url = f\"https://www.immoweb.be/en/search-results/house-and-apartment/for-sale?countries=BE&page={i}&orderBy=newest&isALifeAnnuitySale=false&minPrice={min_price}&maxPrice={max_price}\"\n",
    "    return set(result['id'] for result in session.get(api_url).json()['results'])\n",
    "\n",
    "def get_ids_for_category(min_price, max_price, num_pages, session):\n",
    "    return set(itertools.chain.from_iterable(thread_map(functools.partial(get_ids_from_page, min_price=min_price, maxPrice=max_price, session=session), range(1, num_pages+ 1), max_workers=64)))\n",
    "\n",
    "def get_property(id, session):\n",
    "    property_url = f\"http://www.immoweb.be/en/classified/{id}\"\n",
    "    \n",
    "    tables = pd.read_html(session.get(property_url, timeout=5).text)\n",
    "    df = pd.concat(tables).set_index(0).T\n",
    "    df['id'] = id\n",
    "    df = df.set_index('id')\n",
    "    return df.loc[:, ~df.columns.duplicated()]\n",
    "\n",
    "\n",
    "def get_properties_by_id(ids, session, max_workers=64):\n",
    "    return pd.concat(thread_map(functools.partial(get_property, session=session), ids, max_workers=max_workers))\n",
    "\n",
    "def get_properties():\n",
    "    with requests.Session() as session:\n",
    "        ids = get_price_range(min_price=0, max_price=10**8, session=session)\n",
    "        return get_properties_by_id(ids, session)"
   ]
  },
  {
   "cell_type": "code",
   "execution_count": null,
   "metadata": {},
   "outputs": [],
   "source": [
    "import time\n",
    "\n",
    "start = time.time()\n",
    "properties = get_properties()\n",
    "properties.to_csv('properties.csv')\n",
    "end = time.time()\n",
    "\n",
    "print(f\"Time elapsed: {end - start} seconds.\")\n",
    "print(f\"Number of properties: {len(properties)}\")\n",
    "print(f\"Number of properties per second: {len(properties) / (end - start)}\")\n",
    "print(f\"Number of seconds per property: {(end - start) / len(properties)}\")"
   ]
  }
 ],
 "metadata": {
  "kernelspec": {
   "display_name": "Python 3.10.6 64-bit",
   "language": "python",
   "name": "python3"
  },
  "language_info": {
   "codemirror_mode": {
    "name": "ipython",
    "version": 3
   },
   "file_extension": ".py",
   "mimetype": "text/x-python",
   "name": "python",
   "nbconvert_exporter": "python",
   "pygments_lexer": "ipython3",
   "version": "3.10.11"
  },
  "orig_nbformat": 4,
  "vscode": {
   "interpreter": {
    "hash": "b0fa6594d8f4cbf19f97940f81e996739fb7646882a419484c72d19e05852a7e"
   }
  }
 },
 "nbformat": 4,
 "nbformat_minor": 2
}
