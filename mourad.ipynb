{
 "cells": [
  {
   "cell_type": "code",
   "execution_count": null,
   "metadata": {},
   "outputs": [],
   "source": [
    "import requests\n",
    "from bs4 import BeautifulSoup\n",
    "\n",
    "root_url = \"https://www.immoweb.be/en/search/\"\n",
    "distribution_type = \"BUY\"\n",
    "estate_type = \"HOUSE\"\n",
    "# need to change in  a list \n",
    "# estate_type =['house', 'apartment'] \n",
    "country = \"BE\"\n",
    "\n",
    "search_url = f\"{root_url}{distribution_type}/{estate_type}?countries={country}\"\n",
    "print(search_url)\n",
    "response = requests.get(search_url)\n",
    "html_content = response.text\n",
    "soup = BeautifulSoup(html_content, \"html.parser\")\n",
    "house_listings = soup.find_all(\"a\", class_=\"card__title-link\")\n",
    "house_urls = [listing[\"href\"] for listing in house_listings]\n",
    "for url in house_urls:\n",
    "    print(url)\n"
   ]
  },
  {
   "cell_type": "code",
   "execution_count": null,
   "metadata": {},
   "outputs": [],
   "source": [
    "import requests\n",
    "from bs4 import BeautifulSoup\n",
    "\"house/for-sale?countries=BE&priceType=SALE_PRICE&page=1&orderBy=relevance\"\n",
    "\"https://www.immoweb.be/en/search/house/for-sale?countries=BE&priceType=SALE_PRICE&page=333&orderBy=relevance\"\n",
    "root_url = \"https://www.immoweb.be/en/search/\"\n",
    "estate_types = ['house', 'apartment']\n",
    "max_page = 333  # Set the maximum page number to 333\n",
    "immo_link = []\n",
    "for estate in estate_types:\n",
    "    page = 1\n",
    "    while page <= max_page:\n",
    "        url = f\"{root_url}{estate}/for-sale?countries=BE&page={page}&orderBy=relevance\"\n",
    "        req = requests.get(url)\n",
    "        print(\"Page: \", page)\n",
    "        print(\"Status Code:\", req.status_code)\n",
    "\n",
    "        soup = BeautifulSoup(req.content, 'html.parser')\n",
    "        card_results = soup.find_all('article', class_='card--result')\n",
    "\n",
    "        href_links = []\n",
    "\n",
    "        for article in card_results:\n",
    "            link = article.find('a', class_='card__title-link')\n",
    "            if link:\n",
    "                href_links.append(link['href'])\n",
    "\n",
    "        for i, link in enumerate(href_links, 1):\n",
    "            immo_link = immo_link.append(link)\n",
    "            print(i, link)\n",
    "\n",
    "\n",
    "        page += 1\n",
    "\n",
    "print(\"Scraping completed.\")\n",
    "\n"
   ]
  }
 ],
 "metadata": {
  "kernelspec": {
   "display_name": "venv",
   "language": "python",
   "name": "python3"
  },
  "language_info": {
   "codemirror_mode": {
    "name": "ipython",
    "version": 3
   },
   "file_extension": ".py",
   "mimetype": "text/x-python",
   "name": "python",
   "nbconvert_exporter": "python",
   "pygments_lexer": "ipython3",
   "version": "3.10.6"
  },
  "orig_nbformat": 4
 },
 "nbformat": 4,
 "nbformat_minor": 2
}
