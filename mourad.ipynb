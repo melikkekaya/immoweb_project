{
 "cells": [
  {
   "cell_type": "code",
   "execution_count": 11,
   "metadata": {},
   "outputs": [
    {
     "name": "stderr",
     "output_type": "stream",
     "text": [
      "100%|██████████| 11/11 [00:01<00:00,  7.10it/s]\n",
      "0it [00:00, ?it/s]\n",
      "100%|██████████| 46/46 [00:05<00:00,  8.10it/s]\n",
      "0it [00:00, ?it/s]\n",
      "100%|██████████| 105/105 [00:12<00:00,  8.10it/s]\n",
      "0it [00:00, ?it/s]\n",
      "100%|██████████| 190/190 [00:23<00:00,  8.22it/s]\n",
      "0it [00:00, ?it/s]\n",
      "100%|██████████| 265/265 [00:32<00:00,  8.24it/s]\n",
      "0it [00:00, ?it/s]\n"
     ]
    }
   ],
   "source": [
    "import requests\n",
    "from bs4 import BeautifulSoup\n",
    "import pandas as pd\n",
    "import itertools\n",
    "from functools import partial\n",
    "from tqdm.contrib.concurrent import thread_map\n",
    "\n",
    "def get_urls_from_search_page(search_url):\n",
    "    req = requests.get(search_url)\n",
    "    soup = BeautifulSoup(req.content, 'html.parser')\n",
    "    card_results = soup.find_all('article', class_='card--result')\n",
    "\n",
    "    immo_links = []\n",
    "    for article in card_results:\n",
    "        link = article.find('a', class_='card--title-link')\n",
    "        if link:\n",
    "            immo_links.append(link['href'])\n",
    "    return immo_links\n",
    "\n",
    "def get_search_url_list(min_price: int, max_price: int):\n",
    "    estate_types = [\"house\",\"apartment\"]\n",
    "\n",
    "    search_links = []\n",
    "    for estate in estate_types:\n",
    "        page = 1\n",
    "        while True:\n",
    "            url = f\"https://www.immoweb.be/en/search/{estate}/for-sale?countries=BE&minPrice={min_price}&maxPrice={max_price}&page={page}&orderBy=relevance\"\n",
    "            req = requests.get(url)\n",
    "            soup = BeautifulSoup(req.content, 'html.parser')\n",
    "            card_results = soup.find_all('article', class_='card--result')\n",
    "            if not card_results:  # if no more results found, stop iterating over pages\n",
    "                break\n",
    "            search_links.append(url)\n",
    "            page += 1\n",
    "    return search_links\n",
    "\n",
    "def get_property(url, session): \n",
    "    try:\n",
    "        req = session.get(url)\n",
    "        read_html_prop = pd.read_html(req.text)\n",
    "        property = pd.concat(read_html_prop).set_index(0).T\n",
    "        property[\"id\"] = url.split(\"/\")[-1]\n",
    "        property = property.set_index(\"id\")\n",
    "        property = property.loc[:, ~property.columns.duplicated()].copy()\n",
    "        \n",
    "        return property\n",
    "    except Exception as e:\n",
    "        print(type(e))\n",
    "        return e\n",
    "    \n",
    "if __name__ == \"__main__\":\n",
    "    min_max_price_list = [(i, i+40000) for i in range(10000, 2500000, 40000)]\n",
    "    all_properties = []\n",
    "\n",
    "    with requests.Session() as session:\n",
    "        for min_price, max_price in min_max_price_list:\n",
    "            search_links = get_search_url_list(min_price, max_price)\n",
    "            urls = list(itertools.chain.from_iterable(thread_map(get_urls_from_search_page, search_links)))\n",
    "            properties = [df for df in thread_map(partial(get_property, session=session), urls) if isinstance(df, pd.DataFrame)]\n",
    "            all_properties.extend(properties)\n",
    "\n",
    "    if all_properties:\n",
    "        properties_df = pd.concat(all_properties)\n",
    "        properties_df.to_csv(\"Full_properties.csv\")\n",
    "    else:\n",
    "        print(\"No valid properties data was found.\")\n"
   ]
  }
 ],
 "metadata": {
  "kernelspec": {
   "display_name": "venv",
   "language": "python",
   "name": "python3"
  },
  "language_info": {
   "codemirror_mode": {
    "name": "ipython",
    "version": 3
   },
   "file_extension": ".py",
   "mimetype": "text/x-python",
   "name": "python",
   "nbconvert_exporter": "python",
   "pygments_lexer": "ipython3",
   "version": "3.10.11"
  },
  "orig_nbformat": 4
 },
 "nbformat": 4,
 "nbformat_minor": 2
}
