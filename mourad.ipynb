{
 "cells": [
  {
   "cell_type": "code",
   "execution_count": 1,
   "metadata": {},
   "outputs": [
    {
     "name": "stderr",
     "output_type": "stream",
     "text": [
      "c:\\Users\\Mourad\\AppData\\Local\\Programs\\Python\\Python310\\lib\\site-packages\\tqdm\\auto.py:21: TqdmWarning: IProgress not found. Please update jupyter and ipywidgets. See https://ipywidgets.readthedocs.io/en/stable/user_install.html\n",
      "  from .autonotebook import tqdm as notebook_tqdm\n"
     ]
    }
   ],
   "source": [
    "import csv\n",
    "import functools\n",
    "import itertools\n",
    "import json\n",
    "import re\n",
    "from concurrent.futures import ThreadPoolExecutor\n",
    "from time import perf_counter\n",
    "from typing import List, Dict\n",
    "\n",
    "import lxml\n",
    "import pandas as pd\n",
    "import requests\n",
    "from bs4 import BeautifulSoup\n",
    "from tqdm.contrib.concurrent import thread_map\n"
   ]
  },
  {
   "cell_type": "code",
   "execution_count": 13,
   "metadata": {},
   "outputs": [],
   "source": [
    "def get_price_range(min_price, max_price, session, properties_per_page=30):\n",
    "    api_url = f\"https://www.immoweb.be/en/search-results/house-and-apartment/for-sale?countries=BE&page=1&orderBy=newest&isALifeAnnuitySale=false&minPrice={min_price}&maxPrice={max_price}\"\n",
    "    num_pages = session.get(api_url).json()['marketingCount'] // properties_per_page + 1 # total nb of properties / nb of properties per page\n",
    "    if num_pages > 333: # there is a hard limit of 333 pages\n",
    "        mid_price = (min_price + max_price) // 2 \n",
    "        return get_price_range(min_price, mid_price, session).union(get_price_range(mid_price, max_price, session)) # split the range in two. Union prevents duplicates.\n",
    "    return get_ids_for_category(min_price, max_price, num_pages, session)\n",
    "\n",
    "def get_ids_from_page(i, min_price, max_price, session):\n",
    "    api_url = f\"https://www.immoweb.be/en/search-results/house-and-apartment/for-sale?countries=BE&page={i}&orderBy=newest&isALifeAnnuitySale=false&minPrice={min_price}&maxPrice={max_price}\"\n",
    "    return set(result['id'] for result in session.get(api_url).json()['results'])\n",
    "\n",
    "def get_ids_for_category(min_price, max_price, num_pages, session):\n",
    "    return set(itertools.chain.from_iterable(thread_map(functools.partial(get_ids_from_page, min_price=min_price, max_price=max_price, session=session), range(1, num_pages+ 1), max_workers=64)))\n",
    "\n",
    "def get_property(id, session): \n",
    "    property_url = f\"http://www.immoweb.be/en/classified/{id}\"\n",
    "\n",
    "    try:\n",
    "        req = session.get(property_url, timeout=10)\n",
    "        tables = pd.read_html(req.text)\n",
    "        df = pd.concat(tables).set_index(0).T\n",
    "        df['id'] = id\n",
    "        df = df.set_index('id')\n",
    "        df_prop = df.loc[:, ~df.columns.duplicated()].copy()\n",
    "\n",
    "        original_dict = {}\n",
    "\n",
    "        window_data = re.findall(\"window.dataLayer =(.+?);\\n\", req.text, re.S)\n",
    "        if window_data and json.loads(window_data[0]):\n",
    "            list_of_property_info = json.loads(window_data[0])\n",
    "            original_dict = list_of_property_info[0]['classified']\n",
    "\n",
    "        for i in df_prop.index:\n",
    "            original_dict[df_prop.loc[i, df_prop.columns[0]]] = df_prop.loc[i, df_prop.columns[1]]\n",
    "\n",
    "        df_dict = pd.DataFrame([original_dict])\n",
    "        df_dict = df_dict.set_index('id')\n",
    "        \n",
    "    except Exception as e:\n",
    "        print(type(e))\n",
    "        return pd.DataFrame()\n",
    "\n",
    "    return df_dict\n",
    "\n",
    "\n",
    "def get_properties_by_id(ids, session, max_workers=64):\n",
    "    return pd.concat(thread_map(functools.partial(get_property, session=session), ids, max_workers=max_workers))\n",
    "\n",
    "def get_properties():\n",
    "    with requests.Session() as session:\n",
    "        ids = get_price_range(min_price=0, max_price=10**6, session=session)\n",
    "        return get_properties_by_id(ids, session)"
   ]
  },
  {
   "cell_type": "code",
   "execution_count": 14,
   "metadata": {},
   "outputs": [
    {
     "name": "stderr",
     "output_type": "stream",
     "text": [
      "100%|██████████| 116/116 [00:02<00:00, 44.69it/s]\n",
      "100%|██████████| 285/285 [00:08<00:00, 35.10it/s]\n",
      "100%|██████████| 201/201 [00:05<00:00, 37.19it/s]\n",
      "100%|██████████| 291/291 [00:12<00:00, 23.65it/s]\n",
      "100%|██████████| 260/260 [00:08<00:00, 32.17it/s]\n",
      "100%|██████████| 258/258 [00:08<00:00, 31.52it/s]\n",
      "100%|██████████| 224/224 [00:06<00:00, 34.37it/s]\n",
      "100%|██████████| 244/244 [00:07<00:00, 32.29it/s]\n",
      "100%|██████████| 315/315 [00:11<00:00, 26.41it/s]\n",
      "100%|██████████| 242/242 [00:08<00:00, 27.83it/s]\n",
      "100%|██████████| 227/227 [00:06<00:00, 36.93it/s]\n",
      "100%|██████████| 164/164 [00:04<00:00, 34.64it/s]\n",
      "100%|██████████| 153/153 [00:04<00:00, 32.76it/s]\n",
      "  4%|▍         | 2799/69695 [01:20<22:31, 49.50it/s]  "
     ]
    },
    {
     "name": "stdout",
     "output_type": "stream",
     "text": [
      "<class 'ValueError'>\n"
     ]
    },
    {
     "name": "stderr",
     "output_type": "stream",
     "text": [
      "  9%|▉         | 6251/69695 [03:07<23:37, 44.77it/s]  "
     ]
    },
    {
     "name": "stdout",
     "output_type": "stream",
     "text": [
      "<class 'ValueError'>\n"
     ]
    },
    {
     "name": "stderr",
     "output_type": "stream",
     "text": [
      " 22%|██▏       | 15587/69695 [07:49<2:16:45,  6.59it/s]"
     ]
    },
    {
     "name": "stdout",
     "output_type": "stream",
     "text": [
      "<class 'ValueError'>\n"
     ]
    },
    {
     "name": "stderr",
     "output_type": "stream",
     "text": [
      " 23%|██▎       | 16115/69695 [08:13<43:54, 20.34it/s]  "
     ]
    },
    {
     "name": "stdout",
     "output_type": "stream",
     "text": [
      "<class 'ValueError'>\n"
     ]
    },
    {
     "name": "stderr",
     "output_type": "stream",
     "text": [
      " 24%|██▍       | 16561/69695 [08:37<56:27, 15.69it/s]"
     ]
    },
    {
     "name": "stdout",
     "output_type": "stream",
     "text": [
      "<class 'ValueError'>\n"
     ]
    },
    {
     "name": "stderr",
     "output_type": "stream",
     "text": [
      " 24%|██▍       | 16860/69695 [08:58<1:20:52, 10.89it/s]"
     ]
    },
    {
     "name": "stdout",
     "output_type": "stream",
     "text": [
      "<class 'ValueError'>\n",
      "<class 'ValueError'>\n"
     ]
    },
    {
     "name": "stderr",
     "output_type": "stream",
     "text": [
      " 24%|██▍       | 16975/69695 [09:03<41:02, 21.41it/s]  "
     ]
    },
    {
     "name": "stdout",
     "output_type": "stream",
     "text": [
      "<class 'requests.exceptions.ReadTimeout'>\n"
     ]
    },
    {
     "name": "stderr",
     "output_type": "stream",
     "text": [
      " 24%|██▍       | 16991/69695 [09:04<47:11, 18.61it/s]"
     ]
    },
    {
     "name": "stdout",
     "output_type": "stream",
     "text": [
      "<class 'requests.exceptions.ReadTimeout'>\n"
     ]
    },
    {
     "name": "stderr",
     "output_type": "stream",
     "text": [
      " 25%|██▌       | 17630/69695 [09:36<1:23:13, 10.43it/s]"
     ]
    },
    {
     "name": "stdout",
     "output_type": "stream",
     "text": [
      "<class 'ValueError'>\n"
     ]
    },
    {
     "name": "stderr",
     "output_type": "stream",
     "text": [
      " 26%|██▌       | 17782/69695 [09:47<58:10, 14.87it/s]  "
     ]
    },
    {
     "name": "stdout",
     "output_type": "stream",
     "text": [
      "<class 'ValueError'>\n"
     ]
    },
    {
     "name": "stderr",
     "output_type": "stream",
     "text": [
      " 32%|███▏      | 22236/69695 [12:38<2:11:27,  6.02it/s]"
     ]
    },
    {
     "name": "stdout",
     "output_type": "stream",
     "text": [
      "<class 'ValueError'>\n"
     ]
    },
    {
     "name": "stderr",
     "output_type": "stream",
     "text": [
      " 48%|████▊     | 33322/69695 [17:51<08:28, 71.58it/s]  "
     ]
    },
    {
     "name": "stdout",
     "output_type": "stream",
     "text": [
      "<class 'ValueError'>\n"
     ]
    },
    {
     "name": "stderr",
     "output_type": "stream",
     "text": [
      " 55%|█████▌    | 38380/69695 [20:13<07:14, 72.02it/s]"
     ]
    },
    {
     "name": "stdout",
     "output_type": "stream",
     "text": [
      "<class 'ValueError'>\n"
     ]
    },
    {
     "name": "stderr",
     "output_type": "stream",
     "text": [
      " 57%|█████▋    | 39650/69695 [20:48<21:03, 23.79it/s]"
     ]
    },
    {
     "name": "stdout",
     "output_type": "stream",
     "text": [
      "<class 'ValueError'>\n"
     ]
    },
    {
     "name": "stderr",
     "output_type": "stream",
     "text": [
      " 59%|█████▊    | 40911/69695 [21:32<17:38, 27.20it/s]  "
     ]
    },
    {
     "name": "stdout",
     "output_type": "stream",
     "text": [
      "<class 'ValueError'>\n"
     ]
    },
    {
     "name": "stderr",
     "output_type": "stream",
     "text": [
      " 61%|██████    | 42257/69695 [22:19<17:05, 26.75it/s]  "
     ]
    },
    {
     "name": "stdout",
     "output_type": "stream",
     "text": [
      "<class 'ValueError'>\n"
     ]
    },
    {
     "name": "stderr",
     "output_type": "stream",
     "text": [
      " 61%|██████    | 42514/69695 [22:37<1:28:20,  5.13it/s]"
     ]
    },
    {
     "name": "stdout",
     "output_type": "stream",
     "text": [
      "<class 'ValueError'>\n"
     ]
    },
    {
     "name": "stderr",
     "output_type": "stream",
     "text": [
      " 61%|██████    | 42536/69695 [22:38<56:37,  7.99it/s]  "
     ]
    },
    {
     "name": "stdout",
     "output_type": "stream",
     "text": [
      "<class 'ValueError'>\n",
      "<class 'ValueError'>\n"
     ]
    },
    {
     "name": "stderr",
     "output_type": "stream",
     "text": [
      " 66%|██████▌   | 45653/69695 [24:26<12:47, 31.34it/s]"
     ]
    },
    {
     "name": "stdout",
     "output_type": "stream",
     "text": [
      "<class 'ValueError'>\n"
     ]
    },
    {
     "name": "stderr",
     "output_type": "stream",
     "text": [
      " 68%|██████▊   | 47471/69695 [25:12<06:43, 55.06it/s]"
     ]
    },
    {
     "name": "stdout",
     "output_type": "stream",
     "text": [
      "<class 'ValueError'>\n"
     ]
    },
    {
     "name": "stderr",
     "output_type": "stream",
     "text": [
      " 70%|███████   | 48955/69695 [25:53<09:37, 35.92it/s]"
     ]
    },
    {
     "name": "stdout",
     "output_type": "stream",
     "text": [
      "<class 'ValueError'>\n"
     ]
    },
    {
     "name": "stderr",
     "output_type": "stream",
     "text": [
      " 77%|███████▋  | 53382/69695 [27:49<06:58, 39.00it/s]"
     ]
    },
    {
     "name": "stdout",
     "output_type": "stream",
     "text": [
      "<class 'ValueError'>\n"
     ]
    },
    {
     "name": "stderr",
     "output_type": "stream",
     "text": [
      " 82%|████████▏ | 57175/69695 [29:20<05:53, 35.43it/s]  "
     ]
    },
    {
     "name": "stdout",
     "output_type": "stream",
     "text": [
      "<class 'ValueError'>\n"
     ]
    },
    {
     "name": "stderr",
     "output_type": "stream",
     "text": [
      " 90%|█████████ | 62845/69695 [31:39<01:29, 76.41it/s]"
     ]
    },
    {
     "name": "stdout",
     "output_type": "stream",
     "text": [
      "<class 'ValueError'>\n"
     ]
    },
    {
     "name": "stderr",
     "output_type": "stream",
     "text": [
      " 93%|█████████▎| 64703/69695 [32:25<01:32, 54.11it/s]"
     ]
    },
    {
     "name": "stdout",
     "output_type": "stream",
     "text": [
      "<class 'ValueError'>\n"
     ]
    },
    {
     "name": "stderr",
     "output_type": "stream",
     "text": [
      " 95%|█████████▍| 66193/69695 [33:03<01:09, 50.50it/s]"
     ]
    },
    {
     "name": "stdout",
     "output_type": "stream",
     "text": [
      "<class 'ValueError'>\n"
     ]
    },
    {
     "name": "stderr",
     "output_type": "stream",
     "text": [
      " 96%|█████████▌| 66616/69695 [33:15<03:52, 13.22it/s]"
     ]
    },
    {
     "name": "stdout",
     "output_type": "stream",
     "text": [
      "<class 'ValueError'>\n",
      "<class 'ValueError'>\n"
     ]
    },
    {
     "name": "stderr",
     "output_type": "stream",
     "text": [
      "100%|██████████| 69695/69695 [34:29<00:00, 33.68it/s]\n"
     ]
    }
   ],
   "source": [
    "import time\n",
    "\n",
    "start = time.time()\n",
    "properties = get_properties()\n",
    "properties.to_csv('full_properties.csv')\n",
    "end = time.time()\n",
    "\n",
    "print(f\"Time elapsed: {end - start} seconds.\")\n",
    "print(f\"Number of properties: {len(properties)}\")\n",
    "print(f\"Number of properties per second: {len(properties) / (end - start)}\")\n",
    "print(f\"Number of seconds per property: {(end - start) / len(properties)}\")"
   ]
  }
 ],
 "metadata": {
  "kernelspec": {
   "display_name": "venv",
   "language": "python",
   "name": "python3"
  },
  "language_info": {
   "codemirror_mode": {
    "name": "ipython",
    "version": 3
   },
   "file_extension": ".py",
   "mimetype": "text/x-python",
   "name": "python",
   "nbconvert_exporter": "python",
   "pygments_lexer": "ipython3",
   "version": "3.10.11"
  },
  "orig_nbformat": 4
 },
 "nbformat": 4,
 "nbformat_minor": 2
}
